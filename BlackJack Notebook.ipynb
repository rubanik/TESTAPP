{
 "cells": [
  {
   "cell_type": "code",
   "execution_count": 18,
   "source": [
    "import random\r\n",
    "\r\n",
    "suits = ('Hearts', 'Diamonds', 'Spades', 'Clubs')\r\n",
    "ranks = ('Two', 'Three', 'Four', 'Five', 'Six', 'Seven', 'Eight', 'Nine', 'Ten', 'Jack', 'Queen', 'King', 'Ace')\r\n",
    "values = {'Two':2, 'Three':3, 'Four':4, 'Five':5, 'Six':6, 'Seven':7, 'Eight':8, \r\n",
    "            'Nine':9, 'Ten':10, 'Jack':11, 'Queen':12, 'King':13, 'Ace':14}\r\n",
    "playing = False"
   ],
   "outputs": [],
   "metadata": {}
  },
  {
   "cell_type": "code",
   "execution_count": 19,
   "source": [
    "class Card:\r\n",
    "\r\n",
    "    def __init__(self,suit,rank):\r\n",
    "        self.suit = suit\r\n",
    "        self.rank = rank\r\n",
    "        self.value = values[rank]\r\n",
    "    \r\n",
    "    def __str__(self):\r\n",
    "        return self.rank + ' of ' + self.suit\r\n",
    "\r\n"
   ],
   "outputs": [],
   "metadata": {}
  },
  {
   "cell_type": "code",
   "execution_count": 20,
   "source": [
    "class Deck:\r\n",
    "    \r\n",
    "    def __init__(self):\r\n",
    "        # Note this only happens once upon creation of a new Deck\r\n",
    "        self.all_cards = [] \r\n",
    "        for suit in suits:\r\n",
    "            for rank in ranks:\r\n",
    "                # This assumes the Card class has already been defined!\r\n",
    "                self.all_cards.append(Card(suit,rank))\r\n",
    "                \r\n",
    "    def shuffle(self):\r\n",
    "        # Note this doesn't return anything\r\n",
    "        random.shuffle(self.all_cards)\r\n",
    "        \r\n",
    "    def deal_one(self):\r\n",
    "        # Note we remove one card from the list of all_cards\r\n",
    "        return self.all_cards.pop()    "
   ],
   "outputs": [],
   "metadata": {}
  },
  {
   "cell_type": "code",
   "execution_count": 21,
   "source": [
    "class Hand():\r\n",
    "    def __init__(self):\r\n",
    "        self.cards = []\r\n",
    "        self.value = 0\r\n",
    "        self.aces = 0\r\n",
    "    \r\n",
    "    def add_card(self,card):\r\n",
    "        self.cards.append(card)\r\n",
    "        self.value += values[card.rank]\r\n",
    "\r\n",
    "        if card.rank == 'Ace':\r\n",
    "            self.aces += 1\r\n",
    "\r\n",
    "    def adjust_for_aces(self):\r\n",
    "        while self.value > 21 and self.aces:\r\n",
    "            self.value -= 10\r\n",
    "            self.aces -= 1\r\n",
    "\r\n"
   ],
   "outputs": [],
   "metadata": {}
  },
  {
   "cell_type": "code",
   "execution_count": 22,
   "source": [
    "class Chips:\r\n",
    "    def __init__(self):\r\n",
    "        self.total = 100\r\n",
    "        self.bet = 0\r\n",
    "    \r\n",
    "    def win_bet(self):\r\n",
    "        self.total += self.bet\r\n",
    "        self.bet = 0\r\n",
    "\r\n",
    "    def lose_bet(self):\r\n",
    "        self.total -= self.bet\r\n",
    "        self.bet = 0"
   ],
   "outputs": [],
   "metadata": {}
  },
  {
   "cell_type": "code",
   "execution_count": 23,
   "source": [
    "def deal_cards():\r\n",
    "    for i in range(2):\r\n",
    "        dealer_hand.add_card(playing_deck.deal_one())\r\n",
    "        player_hand.add_card(playing_deck.deal_one())"
   ],
   "outputs": [],
   "metadata": {}
  },
  {
   "cell_type": "code",
   "execution_count": 24,
   "source": [
    "def show_some(dealer_hand,player_hand):\r\n",
    "    print(f'Dealer\\'s Cards: [{dealer_hand.cards[0]}],[ ##### ]')\r\n",
    "    str_repr = ''\r\n",
    "    for i,card in enumerate(player_hand.cards):\r\n",
    "        str_repr+='['+str(player_hand.cards[i])+'],'\r\n",
    "    str_repr = str_repr.strip(',')+ f' Total : {player_hand.value}'\r\n",
    "    print(f'Player\\'s Cards: {str_repr}')\r\n",
    "    print('\\n')"
   ],
   "outputs": [],
   "metadata": {}
  },
  {
   "cell_type": "code",
   "execution_count": 40,
   "source": [
    "def show_all(dealer_hand,player_hand):\r\n",
    "    player_repr = ''\r\n",
    "    for i,card in enumerate(player_hand.cards):\r\n",
    "        player_repr+='['+str(player_hand.cards[i])+'],'\r\n",
    "    player_repr = player_repr.strip(',')+ f' Total : {player_hand.value}'\r\n",
    "    print(player_repr)\r\n",
    "    dealer_repr = ''\r\n",
    "    for i,card in enumerate(dealer_hand.cards):\r\n",
    "        dealer_repr+='['+str(dealer_hand.cards[i])+'],'\r\n",
    "    dealer_repr = dealer_repr.strip(',')+ f' Total : {dealer_hand.value}'\r\n",
    "    print(dealer_repr)\r\n"
   ],
   "outputs": [],
   "metadata": {}
  },
  {
   "cell_type": "code",
   "execution_count": 25,
   "source": [
    "def take_bet(chips):\r\n",
    "    \r\n",
    "    print(f'Please enter your Bet! Chips available: {player_chips.total}')\r\n",
    "    while True:\r\n",
    "        try:\r\n",
    "            chips.bet = int(input('Your BET -> '))\r\n",
    "            if(chips.total >= int(chips.bet)):\r\n",
    "                print(f'Excellent! Your BET is {chips.bet}')\r\n",
    "            else:\r\n",
    "                print('Sorry, you don\\'t have enough chips' )\r\n",
    "            break\r\n",
    "        except:\r\n",
    "            print('Wrond input. Try again.')\r\n",
    "        "
   ],
   "outputs": [],
   "metadata": {}
  },
  {
   "cell_type": "code",
   "execution_count": 26,
   "source": [
    "def hit(deck,hand):\r\n",
    "    hand.adjust_for_aces()\r\n",
    "    if hand.value < 21:\r\n",
    "        hand.add_card(deck.deal_one())\r\n",
    "        return True\r\n",
    "    else:\r\n",
    "        return False"
   ],
   "outputs": [],
   "metadata": {}
  },
  {
   "cell_type": "code",
   "execution_count": 27,
   "source": [
    "def hit_or_stand(deck,hand):\r\n",
    "    global playing\r\n",
    "    answer = ''\r\n",
    "    while not answer:\r\n",
    "        try:\r\n",
    "            answer = input('Hit or Stand?..\\n')\r\n",
    "            if answer.lower() == 'hit':\r\n",
    "                playing = hit(deck,hand)\r\n",
    "            elif answer.lower() == 'stand':\r\n",
    "                playing = False\r\n",
    "            else:\r\n",
    "                answer = ''\r\n",
    "        except Exception as e:\r\n",
    "            print(\"Incorrect input. It should be 'hit' or 'stand'\",e)\r\n",
    "\r\n",
    "#hit_or_stand(playing_deck,player_hand)\r\n",
    "\r\n"
   ],
   "outputs": [],
   "metadata": {}
  },
  {
   "cell_type": "code",
   "execution_count": 28,
   "source": [
    "def player_busts(chips):\r\n",
    "    chips.lose_bet()"
   ],
   "outputs": [],
   "metadata": {}
  },
  {
   "cell_type": "code",
   "execution_count": 29,
   "source": [
    "def player_wins(chips):\r\n",
    "    chips.win_bet()"
   ],
   "outputs": [],
   "metadata": {}
  },
  {
   "cell_type": "code",
   "execution_count": 30,
   "source": [
    "def dealer_wins():\r\n",
    "    pass"
   ],
   "outputs": [],
   "metadata": {}
  },
  {
   "cell_type": "code",
   "execution_count": 31,
   "source": [
    "def dealer_busts():\r\n",
    "    pass"
   ],
   "outputs": [],
   "metadata": {}
  },
  {
   "cell_type": "markdown",
   "source": [
    "# BlackJack\n"
   ],
   "metadata": {}
  },
  {
   "cell_type": "code",
   "execution_count": 41,
   "source": [
    "\"\"\"Black Jack Lite game logic\"\"\"\r\n",
    "counter = 0\r\n",
    "while True:\r\n",
    "    print('Welcome to \"BlackJack Lite Super Cool Edition\" by Rubanik Anton 2021')\r\n",
    "    print('The Game is beginning!\\n')\r\n",
    "    # Создаём колоду карт, руку диллера и игрока\r\n",
    "    playing_deck = Deck()\r\n",
    "    playing_deck.shuffle()\r\n",
    "    dealer_hand = Hand()\r\n",
    "    player_hand = Hand()\r\n",
    "\r\n",
    "    if not counter:\r\n",
    "        player_chips = Chips()  # Создаём фишки игрока\r\n",
    "    \r\n",
    "    # Make a Bet\r\n",
    "    take_bet(player_chips)\r\n",
    "    \r\n",
    "    # раздаём по 2 карты\r\n",
    "    deal_cards()\r\n",
    "    # Выводим на экран \r\n",
    "    show_some(dealer_hand,player_hand)\r\n",
    "\r\n",
    "    playing = True\r\n",
    "    player_busted = False\r\n",
    "    while playing:\r\n",
    "\r\n",
    "        hit_or_stand(playing_deck,player_hand) #\r\n",
    "        show_some(dealer_hand,player_hand) #\r\n",
    "\r\n",
    "        if player_hand.value > 21: #\r\n",
    "            player_busted = True\r\n",
    "            player_busts(player_chips)\r\n",
    "            break     \r\n",
    "    print(player_chips.total)\r\n",
    "\r\n",
    "    show_all(dealer_hand,player_hand)\r\n",
    "    counter+=1\r\n",
    "\r\n",
    "    if counter > 3:\r\n",
    "        break\r\n",
    "\r\n"
   ],
   "outputs": [
    {
     "output_type": "stream",
     "name": "stdout",
     "text": [
      "Welcome to \"BlackJack Lite Super Cool Edition\" by Rubanik Anton 2021\n",
      "The Game is beginning!\n",
      "\n",
      "Please enter your Bet! Chips available: 100\n",
      "Excellent! Your BET is 10\n",
      "Dealer's Cards: [Two of Hearts],[ ##### ]\n",
      "Player's Cards: [Ace of Spades],[Six of Diamonds] Total : 20\n",
      "\n",
      "\n",
      "Dealer's Cards: [Two of Hearts],[ ##### ]\n",
      "Player's Cards: [Ace of Spades],[Six of Diamonds],[Seven of Diamonds] Total : 27\n",
      "\n",
      "\n",
      "90\n",
      "[Ace of Spades],[Six of Diamonds],[Seven of Diamonds] Total : 27\n",
      "[Two of Hearts],[Eight of Hearts] Total : 10\n",
      "Welcome to \"BlackJack Lite Super Cool Edition\" by Rubanik Anton 2021\n",
      "The Game is beginning!\n",
      "\n",
      "Please enter your Bet! Chips available: 90\n",
      "Excellent! Your BET is 27\n",
      "Dealer's Cards: [Nine of Diamonds],[ ##### ]\n",
      "Player's Cards: [Three of Hearts],[Jack of Spades] Total : 14\n",
      "\n",
      "\n",
      "Dealer's Cards: [Nine of Diamonds],[ ##### ]\n",
      "Player's Cards: [Three of Hearts],[Jack of Spades],[Five of Diamonds] Total : 19\n",
      "\n",
      "\n",
      "Dealer's Cards: [Nine of Diamonds],[ ##### ]\n",
      "Player's Cards: [Three of Hearts],[Jack of Spades],[Five of Diamonds],[Ten of Hearts] Total : 29\n",
      "\n",
      "\n",
      "63\n",
      "[Three of Hearts],[Jack of Spades],[Five of Diamonds],[Ten of Hearts] Total : 29\n",
      "[Nine of Diamonds],[Four of Spades] Total : 13\n",
      "Welcome to \"BlackJack Lite Super Cool Edition\" by Rubanik Anton 2021\n",
      "The Game is beginning!\n",
      "\n",
      "Please enter your Bet! Chips available: 63\n",
      "Wrond input. Try again.\n",
      "Excellent! Your BET is 22\n",
      "Dealer's Cards: [King of Clubs],[ ##### ]\n",
      "Player's Cards: [Jack of Spades],[Seven of Diamonds] Total : 18\n",
      "\n",
      "\n",
      "Dealer's Cards: [King of Clubs],[ ##### ]\n",
      "Player's Cards: [Jack of Spades],[Seven of Diamonds],[Nine of Spades] Total : 27\n",
      "\n",
      "\n",
      "41\n",
      "[Jack of Spades],[Seven of Diamonds],[Nine of Spades] Total : 27\n",
      "[King of Clubs],[Four of Spades] Total : 17\n",
      "Welcome to \"BlackJack Lite Super Cool Edition\" by Rubanik Anton 2021\n",
      "The Game is beginning!\n",
      "\n",
      "Please enter your Bet! Chips available: 41\n",
      "Excellent! Your BET is 22\n",
      "Dealer's Cards: [Eight of Clubs],[ ##### ]\n",
      "Player's Cards: [Five of Diamonds],[King of Clubs] Total : 18\n",
      "\n",
      "\n",
      "Dealer's Cards: [Eight of Clubs],[ ##### ]\n",
      "Player's Cards: [Five of Diamonds],[King of Clubs],[Nine of Clubs] Total : 27\n",
      "\n",
      "\n",
      "19\n",
      "[Five of Diamonds],[King of Clubs],[Nine of Clubs] Total : 27\n",
      "[Eight of Clubs],[Jack of Clubs] Total : 19\n"
     ]
    }
   ],
   "metadata": {}
  }
 ],
 "metadata": {
  "orig_nbformat": 4,
  "language_info": {
   "name": "python",
   "version": "3.9.5",
   "mimetype": "text/x-python",
   "codemirror_mode": {
    "name": "ipython",
    "version": 3
   },
   "pygments_lexer": "ipython3",
   "nbconvert_exporter": "python",
   "file_extension": ".py"
  },
  "kernelspec": {
   "name": "python3",
   "display_name": "Python 3.9.5 64-bit"
  },
  "interpreter": {
   "hash": "5838e27ae6e5f63883f9eb8ce03f648aa46f55c4439c50397998ab079e7b8c68"
  }
 },
 "nbformat": 4,
 "nbformat_minor": 2
}