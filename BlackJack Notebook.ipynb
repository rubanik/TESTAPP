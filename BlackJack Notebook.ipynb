{
 "cells": [
  {
   "cell_type": "code",
   "execution_count": 2,
   "source": [
    "import random\r\n",
    "from IPython.display import clear_output\r\n",
    "\r\n",
    "suits = ('Hearts', 'Diamonds', 'Spades', 'Clubs')\r\n",
    "ranks = ('Two', 'Three', 'Four', 'Five', 'Six', 'Seven', 'Eight', 'Nine', 'Ten', 'Jack', 'Queen', 'King', 'Ace')\r\n",
    "values = {'Two':2, 'Three':3, 'Four':4, 'Five':5, 'Six':6, 'Seven':7, 'Eight':8, \r\n",
    "            'Nine':9, 'Ten':10, 'Jack':11, 'Queen':12, 'King':13, 'Ace':14}\r\n",
    "playing = False"
   ],
   "outputs": [],
   "metadata": {}
  },
  {
   "cell_type": "code",
   "execution_count": 3,
   "source": [
    "class Card:\r\n",
    "\r\n",
    "    def __init__(self,suit,rank):\r\n",
    "        self.suit = suit\r\n",
    "        self.rank = rank\r\n",
    "        self.value = values[rank]\r\n",
    "    \r\n",
    "    def __str__(self):\r\n",
    "        return self.rank + ' of ' + self.suit\r\n",
    "\r\n"
   ],
   "outputs": [],
   "metadata": {}
  },
  {
   "cell_type": "code",
   "execution_count": 4,
   "source": [
    "class Deck:\r\n",
    "    \r\n",
    "    def __init__(self):\r\n",
    "        # Note this only happens once upon creation of a new Deck\r\n",
    "        self.all_cards = [] \r\n",
    "        for suit in suits:\r\n",
    "            for rank in ranks:\r\n",
    "                # This assumes the Card class has already been defined!\r\n",
    "                self.all_cards.append(Card(suit,rank))\r\n",
    "                \r\n",
    "    def shuffle(self):\r\n",
    "        # Note this doesn't return anything\r\n",
    "        random.shuffle(self.all_cards)\r\n",
    "        \r\n",
    "    def deal_one(self):\r\n",
    "        # Note we remove one card from the list of all_cards\r\n",
    "        return self.all_cards.pop()    "
   ],
   "outputs": [],
   "metadata": {}
  },
  {
   "cell_type": "code",
   "execution_count": 5,
   "source": [
    "class Hand():\r\n",
    "    def __init__(self):\r\n",
    "        self.cards = []\r\n",
    "        self.value = 0\r\n",
    "        self.aces = 0\r\n",
    "    \r\n",
    "    def add_card(self,card):\r\n",
    "        self.cards.append(card)\r\n",
    "        self.value += values[card.rank]\r\n",
    "\r\n",
    "        if card.rank == 'Ace':\r\n",
    "            self.aces += 1\r\n",
    "\r\n",
    "    def adjust_for_aces(self):\r\n",
    "        while self.value > 21 and self.aces:\r\n",
    "            self.value -= 10\r\n",
    "            self.aces -= 1\r\n",
    "\r\n"
   ],
   "outputs": [],
   "metadata": {}
  },
  {
   "cell_type": "code",
   "execution_count": 6,
   "source": [
    "class Chips:\r\n",
    "    def __init__(self):\r\n",
    "        self.total = 100\r\n",
    "        self.bet = 0\r\n",
    "    \r\n",
    "    def win_bet(self):\r\n",
    "        self.total += self.bet*2\r\n",
    "        self.bet = 0\r\n",
    "\r\n",
    "    def lose_bet(self):\r\n",
    "        self.total -= self.bet\r\n",
    "        self.bet = 0"
   ],
   "outputs": [],
   "metadata": {}
  },
  {
   "cell_type": "code",
   "execution_count": 7,
   "source": [
    "def deal_cards():\r\n",
    "    global playing\r\n",
    "    for i in range(2):\r\n",
    "        dealer_hand.add_card(playing_deck.deal_one())\r\n",
    "        player_hand.add_card(playing_deck.deal_one())\r\n",
    "    player_hand.adjust_for_aces()\r\n",
    "    if player_hand.value > 21:\r\n",
    "        playing = False\r\n",
    "        print('Busted at very beginnig!')"
   ],
   "outputs": [],
   "metadata": {}
  },
  {
   "cell_type": "code",
   "execution_count": 8,
   "source": [
    "def show_bet():\r\n",
    "    print(f'TOTAL: {player_chips.total} BET: {player_chips.bet} ')"
   ],
   "outputs": [],
   "metadata": {}
  },
  {
   "cell_type": "code",
   "execution_count": 9,
   "source": [
    "def show_some(dealer_hand,player_hand):\r\n",
    "    clear_output()\r\n",
    "    show_bet()\r\n",
    "    print(f'Dealer\\'s Cards: [{dealer_hand.cards[0]}],[ ##### ]')\r\n",
    "    str_repr = ''\r\n",
    "    for i,card in enumerate(player_hand.cards):\r\n",
    "        str_repr+='['+str(player_hand.cards[i])+'],'\r\n",
    "    str_repr = str_repr.strip(',')+ f' Total : {player_hand.value}'\r\n",
    "    print(f'Player\\'s Cards: {str_repr}')\r\n",
    "    print('\\n')"
   ],
   "outputs": [],
   "metadata": {}
  },
  {
   "cell_type": "code",
   "execution_count": 10,
   "source": [
    "def show_all(dealer_hand,player_hand):\r\n",
    "    print(f'Game result: {game_result}')\r\n",
    "    show_bet()\r\n",
    "    dealer_repr = ''\r\n",
    "    for i,card in enumerate(dealer_hand.cards):\r\n",
    "        dealer_repr+='['+str(dealer_hand.cards[i])+'],'\r\n",
    "    dealer_repr = dealer_repr.strip(',')+ f' Total : {dealer_hand.value}'\r\n",
    "    print(dealer_repr)\r\n",
    "    player_repr = ''\r\n",
    "    for i,card in enumerate(player_hand.cards):\r\n",
    "        player_repr+='['+str(player_hand.cards[i])+'],'\r\n",
    "    player_repr = player_repr.strip(',')+ f' Total : {player_hand.value}'\r\n",
    "    print(player_repr)\r\n",
    "    \r\n"
   ],
   "outputs": [],
   "metadata": {}
  },
  {
   "cell_type": "code",
   "execution_count": 11,
   "source": [
    "def take_bet(chips):\r\n",
    "    \r\n",
    "    print(f'Please enter your Bet! Chips available: {player_chips.total}')\r\n",
    "    while True:\r\n",
    "        try:\r\n",
    "            chips.bet = int(input('Your BET -> '))\r\n",
    "            if(chips.total >= int(chips.bet)):\r\n",
    "                print(f'Excellent! Your BET is {chips.bet}')\r\n",
    "                break\r\n",
    "            else:\r\n",
    "                print('Sorry, you don\\'t have enough chips' )\r\n",
    "        except:\r\n",
    "            print('Wrond input. Try again.')\r\n",
    "        "
   ],
   "outputs": [],
   "metadata": {}
  },
  {
   "cell_type": "code",
   "execution_count": 12,
   "source": [
    "def hit(deck,hand):\r\n",
    "    if hand.value < 21:\r\n",
    "        hand.add_card(deck.deal_one())\r\n",
    "        return True\r\n",
    "    else:\r\n",
    "        return False"
   ],
   "outputs": [],
   "metadata": {}
  },
  {
   "cell_type": "code",
   "execution_count": 13,
   "source": [
    "def hit_or_stand(deck,hand):\r\n",
    "    global playing\r\n",
    "    answer = ''\r\n",
    "    while not answer:\r\n",
    "        try:\r\n",
    "            answer = input('Hit or Stand?..\\n')\r\n",
    "            if answer.lower() == 'hit':\r\n",
    "                playing = hit(deck,hand)\r\n",
    "            elif answer.lower() == 'stand':\r\n",
    "                playing = False\r\n",
    "            else:\r\n",
    "                answer = ''\r\n",
    "        except Exception as e:\r\n",
    "            print(\"Incorrect input. It should be 'hit' or 'stand'\",e)\r\n",
    "\r\n",
    "#hit_or_stand(playing_deck,player_hand)\r\n",
    "\r\n"
   ],
   "outputs": [],
   "metadata": {}
  },
  {
   "cell_type": "code",
   "execution_count": 14,
   "source": [
    "def player_busts(chips):\r\n",
    "    chips.lose_bet()"
   ],
   "outputs": [],
   "metadata": {}
  },
  {
   "cell_type": "code",
   "execution_count": 15,
   "source": [
    "def player_wins(chips):\r\n",
    "    chips.win_bet()"
   ],
   "outputs": [],
   "metadata": {}
  },
  {
   "cell_type": "code",
   "execution_count": 16,
   "source": [
    "def dealer_wins():\r\n",
    "    pass"
   ],
   "outputs": [],
   "metadata": {}
  },
  {
   "cell_type": "code",
   "execution_count": 17,
   "source": [
    "def dealer_busts():\r\n",
    "    pass"
   ],
   "outputs": [],
   "metadata": {}
  },
  {
   "cell_type": "code",
   "execution_count": 18,
   "source": [
    "def play_again():\r\n",
    "    answer = ''\r\n",
    "    while answer == '':\r\n",
    "        answer = input('Do you wanna play again? (y/n):')\r\n",
    "        if answer.lower() == 'y':\r\n",
    "            return True\r\n",
    "        elif answer.lower() == 'n':\r\n",
    "            return False\r\n",
    "        else:\r\n",
    "            answer = ''"
   ],
   "outputs": [],
   "metadata": {}
  },
  {
   "cell_type": "markdown",
   "source": [
    "# BlackJack\n"
   ],
   "metadata": {}
  },
  {
   "cell_type": "code",
   "execution_count": 26,
   "source": [
    "\"\"\"Black Jack Lite game logic\"\"\"\r\n",
    "\r\n",
    "# TODO что делать когда очки диллера = очкам игрока\r\n",
    "\r\n",
    "counter = 0\r\n",
    "\r\n",
    "print('Welcome to \"BlackJack Lite Super Cool Edition\" by Rubanik Anton 2021')\r\n",
    "print('The Game is beginning!\\n')\r\n",
    "\r\n",
    "while True:\r\n",
    "    \r\n",
    "    # Создаём колоду карт, руку диллера и игрока\r\n",
    "    playing_deck = Deck()\r\n",
    "    playing_deck.shuffle()\r\n",
    "    dealer_hand = Hand()\r\n",
    "    player_hand = Hand()\r\n",
    "    game_result = ''\r\n",
    "    playing = True\r\n",
    "\r\n",
    "    if not counter:\r\n",
    "        player_chips = Chips()  # Создаём фишки игрока\r\n",
    "    \r\n",
    "    # Make a Bet\r\n",
    "    take_bet(player_chips)\r\n",
    "    \r\n",
    "    # раздаём по 2 карты\r\n",
    "    deal_cards()\r\n",
    "    # Выводим на экран \r\n",
    "    show_some(dealer_hand,player_hand)\r\n",
    "    player_busted = False\r\n",
    "    dealer_busted = False\r\n",
    "    \r\n",
    "    while playing:\r\n",
    "\r\n",
    "        hit_or_stand(playing_deck,player_hand) #\r\n",
    "        player_hand.adjust_for_aces()\r\n",
    "        #clear_output()\r\n",
    "        show_some(dealer_hand,player_hand) #\r\n",
    "\r\n",
    "        if player_hand.value > 21: #\r\n",
    "            game_result = 'You are looser!'\r\n",
    "            player_busted = True\r\n",
    "            player_busts(player_chips)\r\n",
    "            break\r\n",
    "    \r\n",
    "    player_busted = player_hand.value > 21 # спорное решение\r\n",
    "\r\n",
    "    if not player_busted:\r\n",
    "        while dealer_hand.value < 17:\r\n",
    "            hit(playing_deck,dealer_hand)\r\n",
    "        dealer_busted = dealer_hand.value > 21\r\n",
    "\r\n",
    "    if dealer_busted:\r\n",
    "        game_result = 'You are winner!'\r\n",
    "        player_wins(player_chips)\r\n",
    "        dealer_busts()\r\n",
    "    \r\n",
    "    if not dealer_busted and not player_busted:\r\n",
    "        if dealer_hand.value < player_hand.value:\r\n",
    "            player_wins(player_chips)\r\n",
    "            game_result = 'You are winner!'\r\n",
    "        elif dealer_hand.value == player_hand.value:\r\n",
    "            game_result = 'No winner!'\r\n",
    "        else:\r\n",
    "            player_busts(player_chips)\r\n",
    "            game_result = 'You are looser!'\r\n",
    "\r\n",
    "    clear_output()\r\n",
    "    show_all(dealer_hand,player_hand)\r\n",
    "    counter+=1\r\n",
    "\r\n",
    "    if player_chips.total <= 0:\r\n",
    "        print('You don\\'t have enough chips to play! Buy buy junky!')\r\n",
    "        break\r\n",
    "\r\n",
    "    if not play_again():\r\n",
    "        break\r\n",
    "    else:\r\n",
    "        clear_output()\r\n",
    "\r\n"
   ],
   "outputs": [
    {
     "output_type": "stream",
     "name": "stdout",
     "text": [
      "Game result: You are looser!\n",
      "TOTAL: 0 BET: 0 \n",
      "[Two of Diamonds],[Three of Spades] Total : 5\n",
      "[Seven of Spades],[Eight of Hearts],[Jack of Diamonds] Total : 26\n",
      "You don't have enough chips to play! Buy buy junky!\n"
     ]
    }
   ],
   "metadata": {}
  }
 ],
 "metadata": {
  "orig_nbformat": 4,
  "language_info": {
   "name": "python",
   "version": "3.9.5",
   "mimetype": "text/x-python",
   "codemirror_mode": {
    "name": "ipython",
    "version": 3
   },
   "pygments_lexer": "ipython3",
   "nbconvert_exporter": "python",
   "file_extension": ".py"
  },
  "kernelspec": {
   "name": "python3",
   "display_name": "Python 3.9.5 64-bit"
  },
  "interpreter": {
   "hash": "5838e27ae6e5f63883f9eb8ce03f648aa46f55c4439c50397998ab079e7b8c68"
  }
 },
 "nbformat": 4,
 "nbformat_minor": 2
}